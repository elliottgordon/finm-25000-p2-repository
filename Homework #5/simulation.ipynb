{
 "cells": [
  {
   "cell_type": "markdown",
   "id": "8957760e",
   "metadata": {},
   "source": [
    "Imports & Instantiations"
   ]
  },
  {
   "cell_type": "code",
   "execution_count": 3,
   "id": "e0052bd8",
   "metadata": {},
   "outputs": [],
   "source": [
    "from market_data_loader import MarketDataLoader\n",
    "from oms import OrderManagementSystem\n",
    "from order_book import LimitOrderBook\n",
    "from position_tracker import PositionTracker\n",
    "from strategies.trend_following   import run_backtest as tf_backtest\n",
    "from strategies.mean_reversion    import run_backtest as mr_backtest\n",
    "from strategies.arbitrage         import run_backtest as arb_backtest\n",
    "\n",
    "loader = MarketDataLoader(interval=\"5m\", period=\"1mo\")\n",
    "oms = OrderManagementSystem()\n",
    "tracker = PositionTracker()\n",
    "book = LimitOrderBook(\"AAPL\")"
   ]
  },
  {
   "cell_type": "markdown",
   "id": "47c3f952",
   "metadata": {},
   "source": [
    "Fetch Data & Generate Signals"
   ]
  },
  {
   "cell_type": "code",
   "execution_count": 4,
   "id": "47244e9c",
   "metadata": {},
   "outputs": [
    {
     "name": "stdout",
     "output_type": "stream",
     "text": [
      "Downloading data for AAPL from 2025-06-01 to 2025-07-01 with interval 5m\n"
     ]
    },
    {
     "name": "stderr",
     "output_type": "stream",
     "text": [
      "[*********************100%***********************]  1 of 1 completed\n"
     ]
    },
    {
     "ename": "TypeError",
     "evalue": "run_backtest() got an unexpected keyword argument 'short_win'",
     "output_type": "error",
     "traceback": [
      "\u001b[31m---------------------------------------------------------------------------\u001b[39m",
      "\u001b[31mTypeError\u001b[39m                                 Traceback (most recent call last)",
      "\u001b[36mCell\u001b[39m\u001b[36m \u001b[39m\u001b[32mIn[4]\u001b[39m\u001b[32m, line 4\u001b[39m\n\u001b[32m      1\u001b[39m hist = loader.get_history(\u001b[33m\"\u001b[39m\u001b[33mAAPL\u001b[39m\u001b[33m\"\u001b[39m, \n\u001b[32m      2\u001b[39m                           start=\u001b[33m\"\u001b[39m\u001b[33m2025-06-01\u001b[39m\u001b[33m\"\u001b[39m, \n\u001b[32m      3\u001b[39m                           end=\u001b[33m\"\u001b[39m\u001b[33m2025-07-01\u001b[39m\u001b[33m\"\u001b[39m)\n\u001b[32m----> \u001b[39m\u001b[32m4\u001b[39m signals, trades, metrics = \u001b[43mtf_backtest\u001b[49m\u001b[43m(\u001b[49m\u001b[43mhist\u001b[49m\u001b[43m,\u001b[49m\u001b[43m \u001b[49m\n\u001b[32m      5\u001b[39m \u001b[43m                                       \u001b[49m\u001b[43mshort_win\u001b[49m\u001b[43m=\u001b[49m\u001b[32;43m10\u001b[39;49m\u001b[43m,\u001b[49m\u001b[43m \u001b[49m\n\u001b[32m      6\u001b[39m \u001b[43m                                       \u001b[49m\u001b[43mlong_win\u001b[49m\u001b[43m=\u001b[49m\u001b[32;43m50\u001b[39;49m\u001b[43m,\u001b[49m\u001b[43m \u001b[49m\n\u001b[32m      7\u001b[39m \u001b[43m                                       \u001b[49m\u001b[43mrisk_params\u001b[49m\u001b[43m=\u001b[49m\u001b[43m{\u001b[49m\u001b[33;43m\"\u001b[39;49m\u001b[33;43mmax_pos\u001b[39;49m\u001b[33;43m\"\u001b[39;49m\u001b[43m:\u001b[49m\u001b[32;43m100\u001b[39;49m\u001b[43m}\u001b[49m\u001b[43m)\u001b[49m\n",
      "\u001b[31mTypeError\u001b[39m: run_backtest() got an unexpected keyword argument 'short_win'"
     ]
    }
   ],
   "source": [
    "hist = loader.get_history(\"AAPL\", \n",
    "                          start=\"2025-06-01\", \n",
    "                          end=\"2025-07-01\")\n",
    "signals, trades, metrics = tf_backtest(hist, \n",
    "                                       short_win=10, \n",
    "                                       long_win=50, \n",
    "                                       risk_params={\"max_pos\":100})"
   ]
  },
  {
   "cell_type": "markdown",
   "id": "b76dda2d",
   "metadata": {},
   "source": [
    "Simulate Orders & Executions"
   ]
  },
  {
   "cell_type": "code",
   "execution_count": 5,
   "id": "774e33c7",
   "metadata": {},
   "outputs": [
    {
     "ename": "NameError",
     "evalue": "name 'trades' is not defined",
     "output_type": "error",
     "traceback": [
      "\u001b[31m---------------------------------------------------------------------------\u001b[39m",
      "\u001b[31mNameError\u001b[39m                                 Traceback (most recent call last)",
      "\u001b[36mCell\u001b[39m\u001b[36m \u001b[39m\u001b[32mIn[5]\u001b[39m\u001b[32m, line 1\u001b[39m\n\u001b[32m----> \u001b[39m\u001b[32m1\u001b[39m \u001b[38;5;28;01mfor\u001b[39;00m trade \u001b[38;5;129;01min\u001b[39;00m \u001b[43mtrades\u001b[49m:\n\u001b[32m      2\u001b[39m     \u001b[38;5;66;03m# trade = {\"timestamp\":..., \"symbol\":..., \"side\":..., \"qty\":..., \"price\":...}\u001b[39;00m\n\u001b[32m      3\u001b[39m     order = Order(**trade)\n\u001b[32m      4\u001b[39m     oms_ack = oms.new_order(order)\n",
      "\u001b[31mNameError\u001b[39m: name 'trades' is not defined"
     ]
    }
   ],
   "source": [
    "for trade in trades:\n",
    "    # trade = {\"timestamp\":..., \"symbol\":..., \"side\":..., \"qty\":..., \"price\":...}\n",
    "    order = Order(**trade)\n",
    "    oms_ack = oms.new_order(order)\n",
    "    exec_reports = book.add_order(order)\n",
    "    for rpt in exec_reports:\n",
    "        tracker.update(rpt)"
   ]
  },
  {
   "cell_type": "markdown",
   "id": "63ec7e4b",
   "metadata": {},
   "source": [
    "Compile and Plot P&L"
   ]
  },
  {
   "cell_type": "code",
   "execution_count": 1,
   "id": "5d736b70",
   "metadata": {},
   "outputs": [
    {
     "ename": "NameError",
     "evalue": "name 'tracker' is not defined",
     "output_type": "error",
     "traceback": [
      "\u001b[31m---------------------------------------------------------------------------\u001b[39m",
      "\u001b[31mNameError\u001b[39m                                 Traceback (most recent call last)",
      "\u001b[36mCell\u001b[39m\u001b[36m \u001b[39m\u001b[32mIn[1]\u001b[39m\u001b[32m, line 1\u001b[39m\n\u001b[32m----> \u001b[39m\u001b[32m1\u001b[39m blotter = \u001b[43mtracker\u001b[49m.get_blotter()  \u001b[38;5;66;03m# DataFrame with columns: timestamp, symbol, side, qty, price, pnl\u001b[39;00m\n\u001b[32m      2\u001b[39m blotter[\u001b[33m\"\u001b[39m\u001b[33mcum_pnl\u001b[39m\u001b[33m\"\u001b[39m] = blotter[\u001b[33m\"\u001b[39m\u001b[33mpnl\u001b[39m\u001b[33m\"\u001b[39m].cumsum()\n\u001b[32m      3\u001b[39m blotter.set_index(\u001b[33m\"\u001b[39m\u001b[33mtimestamp\u001b[39m\u001b[33m\"\u001b[39m)[\u001b[33m\"\u001b[39m\u001b[33mcum_pnl\u001b[39m\u001b[33m\"\u001b[39m].plot(figsize=(\u001b[32m10\u001b[39m,\u001b[32m5\u001b[39m), title=\u001b[33m\"\u001b[39m\u001b[33mEquity Curve\u001b[39m\u001b[33m\"\u001b[39m)\n",
      "\u001b[31mNameError\u001b[39m: name 'tracker' is not defined"
     ]
    }
   ],
   "source": [
    "blotter = tracker.get_blotter()  # DataFrame with columns: timestamp, symbol, side, qty, price, pnl\n",
    "blotter[\"cum_pnl\"] = blotter[\"pnl\"].cumsum()\n",
    "blotter.set_index(\"timestamp\")[\"cum_pnl\"].plot(figsize=(10,5), title=\"Equity Curve\")"
   ]
  },
  {
   "cell_type": "markdown",
   "id": "1c80ecdb",
   "metadata": {},
   "source": [
    "Performance Summary"
   ]
  },
  {
   "cell_type": "code",
   "execution_count": 2,
   "id": "8880810f",
   "metadata": {},
   "outputs": [
    {
     "ename": "NameError",
     "evalue": "name 'metrics' is not defined",
     "output_type": "error",
     "traceback": [
      "\u001b[31m---------------------------------------------------------------------------\u001b[39m",
      "\u001b[31mNameError\u001b[39m                                 Traceback (most recent call last)",
      "\u001b[36mCell\u001b[39m\u001b[36m \u001b[39m\u001b[32mIn[2]\u001b[39m\u001b[32m, line 1\u001b[39m\n\u001b[32m----> \u001b[39m\u001b[32m1\u001b[39m \u001b[38;5;28mprint\u001b[39m(\u001b[33mf\u001b[39m\u001b[33m\"\u001b[39m\u001b[33m**Total Return:**  \u001b[39m\u001b[38;5;132;01m{\u001b[39;00m\u001b[43mmetrics\u001b[49m[\u001b[33m'\u001b[39m\u001b[33mtotal_return\u001b[39m\u001b[33m'\u001b[39m]\u001b[38;5;132;01m:\u001b[39;00m\u001b[33m.2%\u001b[39m\u001b[38;5;132;01m}\u001b[39;00m\u001b[33m\"\u001b[39m)\n\u001b[32m      2\u001b[39m \u001b[38;5;28mprint\u001b[39m(\u001b[33mf\u001b[39m\u001b[33m\"\u001b[39m\u001b[33m**Max Drawdown:**  \u001b[39m\u001b[38;5;132;01m{\u001b[39;00mmetrics[\u001b[33m'\u001b[39m\u001b[33mmax_drawdown\u001b[39m\u001b[33m'\u001b[39m]\u001b[38;5;132;01m:\u001b[39;00m\u001b[33m.2%\u001b[39m\u001b[38;5;132;01m}\u001b[39;00m\u001b[33m\"\u001b[39m)\n\u001b[32m      3\u001b[39m \u001b[38;5;28mprint\u001b[39m(\u001b[33mf\u001b[39m\u001b[33m\"\u001b[39m\u001b[33m**Sharpe Ratio:**  \u001b[39m\u001b[38;5;132;01m{\u001b[39;00mmetrics[\u001b[33m'\u001b[39m\u001b[33msharpe_ratio\u001b[39m\u001b[33m'\u001b[39m]\u001b[38;5;132;01m:\u001b[39;00m\u001b[33m.2f\u001b[39m\u001b[38;5;132;01m}\u001b[39;00m\u001b[33m\"\u001b[39m)\n",
      "\u001b[31mNameError\u001b[39m: name 'metrics' is not defined"
     ]
    }
   ],
   "source": [
    "print(f\"**Total Return:**  {metrics['total_return']:.2%}\")\n",
    "print(f\"**Max Drawdown:**  {metrics['max_drawdown']:.2%}\")\n",
    "print(f\"**Sharpe Ratio:**  {metrics['sharpe_ratio']:.2f}\")"
   ]
  },
  {
   "cell_type": "code",
   "execution_count": null,
   "id": "7f2c2b34",
   "metadata": {},
   "outputs": [],
   "source": []
  }
 ],
 "metadata": {
  "kernelspec": {
   "display_name": "Python 3",
   "language": "python",
   "name": "python3"
  },
  "language_info": {
   "codemirror_mode": {
    "name": "ipython",
    "version": 3
   },
   "file_extension": ".py",
   "mimetype": "text/x-python",
   "name": "python",
   "nbconvert_exporter": "python",
   "pygments_lexer": "ipython3",
   "version": "3.11.0"
  }
 },
 "nbformat": 4,
 "nbformat_minor": 5
}
