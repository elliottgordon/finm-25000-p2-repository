{
 "cells": [
  {
   "cell_type": "markdown",
   "id": "f75ae2e2",
   "metadata": {},
   "source": [
    "to do:\n",
    "- import market data, equal weights profolio part 2, betas from part 3\n",
    "- calculate daily hedge ratio at each time t\n",
    "- make df of all these variables and for hedged returns, with index = time\n",
    "- do i need to redo math of each day's returns if i have the hedge returns formula\n",
    "- is short spy position mean what %, $, or # of shares of profolio to put in spy?\n"
   ]
  },
  {
   "cell_type": "markdown",
   "id": "9da9763b",
   "metadata": {},
   "source": [
    "## Part 4️⃣: Hedging Strategy Implementation\n",
    "\n",
    "### ✅ Objective:\n",
    "Isolate **alpha** by removing market exposure from the portfolio using dynamic hedging based on beta.\n",
    "\n",
    "---\n",
    "\n",
    "### 🔧 Tasks:\n",
    "\n",
    "1. **Import required data**:\n",
    "   - Market data (e.g., SPY prices)\n",
    "   - Equal-weighted portfolio value from **Part 2**\n",
    "   - Time-varying portfolio betas from **Part 3**\n",
    "\n",
    "2. **Calculate daily hedge ratio** (`h_t`) for each day `t`:\n",
    "   - Use the formula:  \n",
    "     $h_t = \\beta_t \\times \\frac{\\text{SPY Price at time } t}{\\text{Portfolio Value at time } t}$\n",
    "\n",
    "   - This gives the **number of SPY shares to short** at each point in time.\n",
    "\n",
    "3. **Construct a DataFrame** with:\n",
    "   - `Date` (as index)\n",
    "   - Portfolio value (`P_t`)\n",
    "   - SPY price (`SPY_t`)\n",
    "   - Beta (`β_t`)\n",
    "   - Hedge ratio (`h_t`)\n",
    "   - Portfolio returns (`r_p,t`)\n",
    "   - Market returns (`r_mkt,t`)\n",
    "   - **Hedged portfolio return** (`r_hp,t`) calculated as:  \n",
    "     $r_{hp,t} = r_{p,t} - \\beta_t \\cdot r_{mkt,t}$\n",
    "\n",
    "4. **Clarifications / Notes**:\n",
    "   - You **do not need to recompute portfolio returns** if you already have them — just plug into the hedged return formula.\n",
    "   - The short SPY position is in **number of shares** (not % or $) based on hedge ratio formula.\n",
    "   - Portfolio value **should include cash** (if tracking both assets + cash, especially after shorting).\n",
    "\n",
    "---\n",
    "\n",
    "### 🔍 Reminder: What is this doing?\n",
    "\n",
    "- Hedging removes the portion of returns that can be explained by overall market movement.\n",
    "- The **goal** is to isolate the \"alpha\" or **idiosyncratic return** of your strategy, i.e., how well your stock selection performs *independently* of the market.\n",
    "\n",
    "---\n",
    "\n",
    "### 💡 Tip:\n",
    "\n",
    "If you’re confused by what the hedge ratio represents:\n",
    "- Think of it as: *\"How many SPY shares should I short to offset the market exposure of my portfolio on that day?\"*\n",
    "\n"
   ]
  },
  {
   "cell_type": "markdown",
   "id": "12f939bc",
   "metadata": {},
   "source": [
    "## 1. Import Libraries"
   ]
  },
  {
   "cell_type": "code",
   "execution_count": 1,
   "id": "fb051c79",
   "metadata": {},
   "outputs": [
    {
     "ename": "ModuleNotFoundError",
     "evalue": "No module named 'seaborn'",
     "output_type": "error",
     "traceback": [
      "\u001b[0;31m---------------------------------------------------------------------------\u001b[0m",
      "\u001b[0;31mModuleNotFoundError\u001b[0m                       Traceback (most recent call last)",
      "Cell \u001b[0;32mIn[1], line 5\u001b[0m\n\u001b[1;32m      3\u001b[0m \u001b[38;5;28;01mimport\u001b[39;00m\u001b[38;5;250m \u001b[39m\u001b[38;5;21;01mnumpy\u001b[39;00m\u001b[38;5;250m \u001b[39m\u001b[38;5;28;01mas\u001b[39;00m\u001b[38;5;250m \u001b[39m\u001b[38;5;21;01mnp\u001b[39;00m\n\u001b[1;32m      4\u001b[0m \u001b[38;5;28;01mimport\u001b[39;00m\u001b[38;5;250m \u001b[39m\u001b[38;5;21;01mmatplotlib\u001b[39;00m\u001b[38;5;21;01m.\u001b[39;00m\u001b[38;5;21;01mpyplot\u001b[39;00m\u001b[38;5;250m \u001b[39m\u001b[38;5;28;01mas\u001b[39;00m\u001b[38;5;250m \u001b[39m\u001b[38;5;21;01mplt\u001b[39;00m\n\u001b[0;32m----> 5\u001b[0m \u001b[38;5;28;01mimport\u001b[39;00m\u001b[38;5;250m \u001b[39m\u001b[38;5;21;01mseaborn\u001b[39;00m\u001b[38;5;250m \u001b[39m\u001b[38;5;28;01mas\u001b[39;00m\u001b[38;5;250m \u001b[39m\u001b[38;5;21;01msns\u001b[39;00m\n\u001b[1;32m      6\u001b[0m \u001b[38;5;28;01mimport\u001b[39;00m\u001b[38;5;250m \u001b[39m\u001b[38;5;21;01myfinance\u001b[39;00m\u001b[38;5;250m \u001b[39m\u001b[38;5;28;01mas\u001b[39;00m\u001b[38;5;250m \u001b[39m\u001b[38;5;21;01myf\u001b[39;00m\n\u001b[1;32m      7\u001b[0m \u001b[38;5;28;01mfrom\u001b[39;00m\u001b[38;5;250m \u001b[39m\u001b[38;5;21;01msklearn\u001b[39;00m\u001b[38;5;21;01m.\u001b[39;00m\u001b[38;5;21;01mlinear_model\u001b[39;00m\u001b[38;5;250m \u001b[39m\u001b[38;5;28;01mimport\u001b[39;00m LinearRegression\n",
      "\u001b[0;31mModuleNotFoundError\u001b[0m: No module named 'seaborn'"
     ]
    }
   ],
   "source": [
    "# Import required libraries\n",
    "import pandas as pd\n",
    "import numpy as np\n",
    "import matplotlib.pyplot as plt\n",
    "import seaborn as sns\n",
    "import yfinance as yf\n",
    "from sklearn.linear_model import LinearRegression\n",
    "from scipy import stats\n",
    "import warnings\n",
    "warnings.filterwarnings('ignore')\n",
    "\n",
    "# Set display options\n",
    "pd.set_option('display.max_columns', None)\n",
    "pd.set_option('display.float_format', '{:.6f}'.format)\n",
    "\n",
    "# Set plotting style\n",
    "plt.style.use('seaborn-v0_8')\n",
    "sns.set_palette(\"husl\")\n",
    "\n",
    "print(\"📚 Libraries imported successfully!\")"
   ]
  }
 ],
 "metadata": {
  "kernelspec": {
   "display_name": "venv",
   "language": "python",
   "name": "python3"
  },
  "language_info": {
   "codemirror_mode": {
    "name": "ipython",
    "version": 3
   },
   "file_extension": ".py",
   "mimetype": "text/x-python",
   "name": "python",
   "nbconvert_exporter": "python",
   "pygments_lexer": "ipython3",
   "version": "3.10.0"
  }
 },
 "nbformat": 4,
 "nbformat_minor": 5
}
