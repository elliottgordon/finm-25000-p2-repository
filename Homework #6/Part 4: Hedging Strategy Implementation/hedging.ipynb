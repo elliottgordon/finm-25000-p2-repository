{
 "cells": [
  {
   "cell_type": "markdown",
   "id": "f4f1a7b9",
   "metadata": {},
   "source": [
    "# Part 4: Hedging Strategy Implementation\n",
    "\n",
    "## Tasks\n",
    "- **Calculate daily hedge ratio:**\n",
    "  \n",
    "  $h_t = \\beta_t \\times \\frac{\\text{Portfolio Value}}{\\text{SPY Price}}$\n",
    "- **Short SPY dynamically**, rebalancing daily\n",
    "- **Simulate hedged returns:**\n",
    "  \n",
    "  $r_{hp,t} = r_{p,t} - \\beta_t \\times r_{mkt,t}$\n",
    "- **Update portfolio value with hedging logic**\n",
    "\n",
    "## Deliverables\n",
    "- Hedge ratio and short SPY position\n",
    "- Time series of hedged portfolio value and returns\n",
    "- Comparison with unhedged values"
   ]
  },
  {
   "cell_type": "code",
   "execution_count": 46,
   "id": "1caf627d",
   "metadata": {},
   "outputs": [
    {
     "name": "stdout",
     "output_type": "stream",
     "text": [
      "Libraries imported successfully!\n"
     ]
    }
   ],
   "source": [
    "import pandas as pd\n",
    "import numpy as np\n",
    "import matplotlib.pyplot as plt\n",
    "import yfinance as yf\n",
    "from scipy import stats\n",
    "import warnings\n",
    "warnings.filterwarnings('ignore')\n",
    "\n",
    "plt.style.use('default')\n",
    "print(\"Libraries imported successfully!\")"
   ]
  },
  {
   "cell_type": "markdown",
   "id": "6aa4baaf",
   "metadata": {},
   "source": [
    "### Task 1: Import Required Data\n",
    "Import SPY prices, portfolio values, and beta estimates (or calculate rolling beta if missing)."
   ]
  },
  {
   "cell_type": "code",
   "execution_count": 47,
   "id": "dd01b25e",
   "metadata": {},
   "outputs": [
    {
     "name": "stdout",
     "output_type": "stream",
     "text": [
      "✓ SPY data loaded: 1401 prices\n",
      "✓ Portfolio data loaded: 1253 observations\n",
      "✓ Beta data loaded: 1190 observations\n"
     ]
    }
   ],
   "source": [
    "# Load SPY prices and calculate returns\n",
    "spy_data = yf.download('SPY', start='2020-01-01', \n",
    "                       end='2025-07-31', progress=False)\n",
    "spy = spy_data['Close'] if 'Close' in spy_data.columns else spy_data.squeeze()\n",
    "spy_returns = spy.pct_change().dropna()\n",
    "print(f\"✓ SPY data loaded: {len(spy)} prices\")\n",
    "\n",
    "\n",
    "# Load portfolio data from Part 2\n",
    "port_path = '../Part 2: Initial Portfolio Construction/' + \\\n",
    "           'equal_weight_portfolio_results.csv'\n",
    "port = pd.read_csv(port_path, index_col=0, parse_dates=True)\n",
    "portfolio_value = port['Portfolio_Value']\n",
    "portfolio_returns = port['Portfolio_Return']\n",
    "print(f\"✓ Portfolio data loaded: {len(portfolio_value)} observations\")\n",
    "\n",
    "\n",
    "# Load beta data from Part 3 or create rolling beta calculation\n",
    "beta_path = '../Part 3: Market Exposure Estimation/' + \\\n",
    "           'portfolio_beta_timeseries.csv'\n",
    "beta_data = pd.read_csv(beta_path, index_col=0, parse_dates=True)\n",
    "betas = beta_data['Beta'] if 'Beta' in beta_data.columns else \\\n",
    "        beta_data.iloc[:,0]\n",
    "print(f\"✓ Beta data loaded: {len(betas)} observations\")"
   ]
  },
  {
   "cell_type": "markdown",
   "id": "3420e6c3",
   "metadata": {},
   "source": [
    "### Task 2: Calculate Daily Hedge Ratio and Short SPY Position\n",
    "Compute the daily hedge ratio and determine the number of SPY shares to short."
   ]
  },
  {
   "cell_type": "code",
   "execution_count": 48,
   "id": "f9a7ea35",
   "metadata": {},
   "outputs": [
    {
     "name": "stdout",
     "output_type": "stream",
     "text": [
      "Aligning data to common dates...\n",
      "Common date range: 2020-11-02 00:00:00 to 2025-07-30 00:00:00 (1190 days)\n",
      "Average beta: 0.932\n",
      "Hedge ratio calculated for 1190 days\n",
      "\n",
      "First 5 hedge ratios and short SPY positions:\n"
     ]
    },
    {
     "data": {
      "text/html": [
       "<div>\n",
       "<style scoped>\n",
       "    .dataframe tbody tr th:only-of-type {\n",
       "        vertical-align: middle;\n",
       "    }\n",
       "\n",
       "    .dataframe tbody tr th {\n",
       "        vertical-align: top;\n",
       "    }\n",
       "\n",
       "    .dataframe thead th {\n",
       "        text-align: right;\n",
       "    }\n",
       "</style>\n",
       "<table border=\"1\" class=\"dataframe\">\n",
       "  <thead>\n",
       "    <tr style=\"text-align: right;\">\n",
       "      <th></th>\n",
       "      <th>Beta</th>\n",
       "      <th>Hedge_Ratio</th>\n",
       "      <th>Short_SPY_Shares</th>\n",
       "    </tr>\n",
       "  </thead>\n",
       "  <tbody>\n",
       "    <tr>\n",
       "      <th>2020-11-02</th>\n",
       "      <td>0.855999</td>\n",
       "      <td>276.329678</td>\n",
       "      <td>-276.329678</td>\n",
       "    </tr>\n",
       "    <tr>\n",
       "      <th>2020-11-03</th>\n",
       "      <td>0.862874</td>\n",
       "      <td>279.029085</td>\n",
       "      <td>-279.029085</td>\n",
       "    </tr>\n",
       "    <tr>\n",
       "      <th>2020-11-04</th>\n",
       "      <td>0.850768</td>\n",
       "      <td>272.345834</td>\n",
       "      <td>-272.345834</td>\n",
       "    </tr>\n",
       "    <tr>\n",
       "      <th>2020-11-05</th>\n",
       "      <td>0.858556</td>\n",
       "      <td>274.347949</td>\n",
       "      <td>-274.347949</td>\n",
       "    </tr>\n",
       "    <tr>\n",
       "      <th>2020-11-06</th>\n",
       "      <td>0.858059</td>\n",
       "      <td>275.052899</td>\n",
       "      <td>-275.052899</td>\n",
       "    </tr>\n",
       "  </tbody>\n",
       "</table>\n",
       "</div>"
      ],
      "text/plain": [
       "                Beta  Hedge_Ratio  Short_SPY_Shares\n",
       "2020-11-02  0.855999   276.329678       -276.329678\n",
       "2020-11-03  0.862874   279.029085       -279.029085\n",
       "2020-11-04  0.850768   272.345834       -272.345834\n",
       "2020-11-05  0.858556   274.347949       -274.347949\n",
       "2020-11-06  0.858059   275.052899       -275.052899"
      ]
     },
     "metadata": {},
     "output_type": "display_data"
    }
   ],
   "source": [
    "# Align all data to common dates\n",
    "print(\"Aligning data to common dates...\")\n",
    "common_dates = (portfolio_value.index\n",
    "                .intersection(spy.index)\n",
    "                .intersection(betas.index)\n",
    "                .intersection(portfolio_returns.index)\n",
    "                .intersection(spy_returns.index))\n",
    "\n",
    "print(f\"Common date range: {common_dates.min()} to \" + \\\n",
    "      f\"{common_dates.max()} ({len(common_dates)} days)\")\n",
    "\n",
    "# Align all series\n",
    "pv = portfolio_value.loc[common_dates]\n",
    "spy_p = spy.loc[common_dates] \n",
    "beta = betas.loc[common_dates]\n",
    "pr = portfolio_returns.loc[common_dates]\n",
    "mr = spy_returns.loc[common_dates]\n",
    "\n",
    "# Convert DataFrame columns to Series if necessary\n",
    "if isinstance(spy_p, pd.DataFrame):\n",
    "    spy_p = spy_p.iloc[:,0]\n",
    "if isinstance(mr, pd.DataFrame):\n",
    "    mr = mr.iloc[:,0]\n",
    "\n",
    "# Calculate hedge ratio: h_t = beta_t * (Portfolio Value / SPY Price)\n",
    "\n",
    "hedge_ratio = beta * (pv / spy_p)\n",
    "short_spy_shares = -hedge_ratio  # Number of SPY shares to short\n",
    "\n",
    "print(f\"Average beta: {beta.mean():.3f}\")\n",
    "print(f\"Hedge ratio calculated for {len(hedge_ratio)} days\")\n",
    "\n",
    "# Deliverable 1: Show hedge ratios and short SPY positions\n",
    "hedge_summary = pd.DataFrame({\n",
    "    'Beta': beta,\n",
    "    'Hedge_Ratio': hedge_ratio, \n",
    "    'Short_SPY_Shares': short_spy_shares\n",
    "})\n",
    "print(\"\\nFirst 5 hedge ratios and short SPY positions:\")\n",
    "display(hedge_summary.head())"
   ]
  },
  {
   "cell_type": "markdown",
   "id": "1160d356",
   "metadata": {},
   "source": [
    "### Task 3: Simulate Hedged Returns\n",
    "Calculate the daily returns of the hedged portfolio using the hedge ratio."
   ]
  },
  {
   "cell_type": "code",
   "execution_count": 49,
   "id": "2efa1389",
   "metadata": {},
   "outputs": [
    {
     "name": "stdout",
     "output_type": "stream",
     "text": [
      "✓ Hedged returns calculated\n",
      "Original portfolio - Mean: 15.67%, Vol: 17.12%\n",
      "Hedged portfolio   - Mean: -0.02%, Vol: 4.73%\n",
      "Correlation with market - Original: 0.957, Hedged: 0.014\n",
      "\n",
      "First 5 hedged returns:\n"
     ]
    },
    {
     "data": {
      "text/plain": [
       "2020-11-02    0.008422\n",
       "2020-11-03    0.004175\n",
       "2020-11-04   -0.006952\n",
       "2020-11-05    0.000937\n",
       "2020-11-06    0.003117\n",
       "dtype: float64"
      ]
     },
     "metadata": {},
     "output_type": "display_data"
    }
   ],
   "source": [
    "# Calculate hedged returns: r_hp,t = r_p,t - beta_t * r_mkt,t\n",
    "hedged_returns = pr - beta * mr\n",
    "\n",
    "print(f\"✓ Hedged returns calculated\")\n",
    "print(f\"Original portfolio - Mean: {pr.mean()*252:.2%}, \" + \\\n",
    "      f\"Vol: {pr.std()*np.sqrt(252):.2%}\")\n",
    "print(f\"Hedged portfolio   - Mean: {hedged_returns.mean()*252:.2%}, \" + \\\n",
    "      f\"Vol: {hedged_returns.std()*np.sqrt(252):.2%}\")\n",
    "print(f\"Correlation with market - Original: {pr.corr(mr):.3f}, \" + \\\n",
    "      f\"Hedged: {hedged_returns.corr(mr):.3f}\")\n",
    "\n",
    "# Deliverable 2a: Show first 5 hedged returns\n",
    "print(\"\\nFirst 5 hedged returns:\")\n",
    "display(hedged_returns.head())"
   ]
  },
  {
   "cell_type": "markdown",
   "id": "0d1ddcd5",
   "metadata": {},
   "source": [
    "### Task 4: Update Portfolio Value with Hedging Logic\n",
    "Apply the hedged returns to simulate the evolution of the hedged portfolio value."
   ]
  },
  {
   "cell_type": "code",
   "execution_count": 50,
   "id": "9f755ab6",
   "metadata": {},
   "outputs": [
    {
     "name": "stdout",
     "output_type": "stream",
     "text": [
      "✓ Portfolio value evolution calculated\n",
      "Initial value: $99,649\n",
      "Final unhedged: $191,362 (Return: 92.04%)\n",
      "Final hedged: $99,022 (Return: -0.63%)\n",
      "\n",
      "First 5 hedged portfolio values:\n"
     ]
    },
    {
     "data": {
      "text/html": [
       "<div>\n",
       "<style scoped>\n",
       "    .dataframe tbody tr th:only-of-type {\n",
       "        vertical-align: middle;\n",
       "    }\n",
       "\n",
       "    .dataframe tbody tr th {\n",
       "        vertical-align: top;\n",
       "    }\n",
       "\n",
       "    .dataframe thead th {\n",
       "        text-align: right;\n",
       "    }\n",
       "</style>\n",
       "<table border=\"1\" class=\"dataframe\">\n",
       "  <thead>\n",
       "    <tr style=\"text-align: right;\">\n",
       "      <th></th>\n",
       "      <th>Unhedged_Value</th>\n",
       "      <th>Hedged_Value</th>\n",
       "      <th>Hedged_Return</th>\n",
       "    </tr>\n",
       "  </thead>\n",
       "  <tbody>\n",
       "    <tr>\n",
       "      <th>2020-11-02</th>\n",
       "      <td>99648.586786</td>\n",
       "      <td>100487.832170</td>\n",
       "      <td>0.008422</td>\n",
       "    </tr>\n",
       "    <tr>\n",
       "      <th>2020-11-03</th>\n",
       "      <td>101582.768967</td>\n",
       "      <td>100907.362987</td>\n",
       "      <td>0.004175</td>\n",
       "    </tr>\n",
       "    <tr>\n",
       "      <th>2020-11-04</th>\n",
       "      <td>102808.003953</td>\n",
       "      <td>100205.810027</td>\n",
       "      <td>-0.006952</td>\n",
       "    </tr>\n",
       "    <tr>\n",
       "      <th>2020-11-05</th>\n",
       "      <td>104625.742226</td>\n",
       "      <td>100299.684393</td>\n",
       "      <td>0.000937</td>\n",
       "    </tr>\n",
       "    <tr>\n",
       "      <th>2020-11-06</th>\n",
       "      <td>104931.337757</td>\n",
       "      <td>100612.289102</td>\n",
       "      <td>0.003117</td>\n",
       "    </tr>\n",
       "  </tbody>\n",
       "</table>\n",
       "</div>"
      ],
      "text/plain": [
       "            Unhedged_Value   Hedged_Value  Hedged_Return\n",
       "2020-11-02    99648.586786  100487.832170       0.008422\n",
       "2020-11-03   101582.768967  100907.362987       0.004175\n",
       "2020-11-04   102808.003953  100205.810027      -0.006952\n",
       "2020-11-05   104625.742226  100299.684393       0.000937\n",
       "2020-11-06   104931.337757  100612.289102       0.003117"
      ]
     },
     "metadata": {},
     "output_type": "display_data"
    },
    {
     "name": "stdout",
     "output_type": "stream",
     "text": [
      "\n",
      "Last 5 hedged portfolio values:\n"
     ]
    },
    {
     "data": {
      "text/html": [
       "<div>\n",
       "<style scoped>\n",
       "    .dataframe tbody tr th:only-of-type {\n",
       "        vertical-align: middle;\n",
       "    }\n",
       "\n",
       "    .dataframe tbody tr th {\n",
       "        vertical-align: top;\n",
       "    }\n",
       "\n",
       "    .dataframe thead th {\n",
       "        text-align: right;\n",
       "    }\n",
       "</style>\n",
       "<table border=\"1\" class=\"dataframe\">\n",
       "  <thead>\n",
       "    <tr style=\"text-align: right;\">\n",
       "      <th></th>\n",
       "      <th>Unhedged_Value</th>\n",
       "      <th>Hedged_Value</th>\n",
       "      <th>Hedged_Return</th>\n",
       "    </tr>\n",
       "  </thead>\n",
       "  <tbody>\n",
       "    <tr>\n",
       "      <th>2025-07-24</th>\n",
       "      <td>192457.425467</td>\n",
       "      <td>99591.525678</td>\n",
       "      <td>-0.002141</td>\n",
       "    </tr>\n",
       "    <tr>\n",
       "      <th>2025-07-25</th>\n",
       "      <td>193002.753647</td>\n",
       "      <td>99514.107663</td>\n",
       "      <td>-0.000777</td>\n",
       "    </tr>\n",
       "    <tr>\n",
       "      <th>2025-07-28</th>\n",
       "      <td>192039.687549</td>\n",
       "      <td>99039.000556</td>\n",
       "      <td>-0.004774</td>\n",
       "    </tr>\n",
       "    <tr>\n",
       "      <th>2025-07-29</th>\n",
       "      <td>191824.277025</td>\n",
       "      <td>99153.531661</td>\n",
       "      <td>0.001156</td>\n",
       "    </tr>\n",
       "    <tr>\n",
       "      <th>2025-07-30</th>\n",
       "      <td>191362.349787</td>\n",
       "      <td>99021.626097</td>\n",
       "      <td>-0.001330</td>\n",
       "    </tr>\n",
       "  </tbody>\n",
       "</table>\n",
       "</div>"
      ],
      "text/plain": [
       "            Unhedged_Value  Hedged_Value  Hedged_Return\n",
       "2025-07-24   192457.425467  99591.525678      -0.002141\n",
       "2025-07-25   193002.753647  99514.107663      -0.000777\n",
       "2025-07-28   192039.687549  99039.000556      -0.004774\n",
       "2025-07-29   191824.277025  99153.531661       0.001156\n",
       "2025-07-30   191362.349787  99021.626097      -0.001330"
      ]
     },
     "metadata": {},
     "output_type": "display_data"
    }
   ],
   "source": [
    "# Calculate hedged portfolio value evolution\n",
    "initial_value = pv.iloc[0]\n",
    "hedged_portfolio_value = initial_value * (1 + hedged_returns).cumprod()\n",
    "\n",
    "# Performance summary\n",
    "final_unhedged = pv.iloc[-1]\n",
    "final_hedged = hedged_portfolio_value.iloc[-1]\n",
    "unhedged_return = (final_unhedged / initial_value) - 1\n",
    "hedged_return = (final_hedged / initial_value) - 1\n",
    "\n",
    "print(f\"✓ Portfolio value evolution calculated\")\n",
    "print(f\"Initial value: ${initial_value:,.0f}\")\n",
    "print(f\"Final unhedged: ${final_unhedged:,.0f} \" + \\\n",
    "      f\"(Return: {unhedged_return:.2%})\")\n",
    "print(f\"Final hedged: ${final_hedged:,.0f} \" + \\\n",
    "      f\"(Return: {hedged_return:.2%})\")\n",
    "\n",
    "# Deliverable 2b: Show first 5 hedged portfolio values\n",
    "portfolio_comparison = pd.DataFrame({\n",
    "    'Unhedged_Value': pv,\n",
    "    'Hedged_Value': hedged_portfolio_value,\n",
    "    'Hedged_Return': hedged_returns\n",
    "})\n",
    "print(\"\\nFirst 5 hedged portfolio values:\")\n",
    "display(portfolio_comparison.head())\n",
    "print(f\"\\nLast 5 hedged portfolio values:\")\n",
    "display(portfolio_comparison.tail())"
   ]
  },
  {
   "cell_type": "markdown",
   "id": "6beedaff",
   "metadata": {},
   "source": [
    "### Deliverable 3: Comparison with Unhedged Values\n",
    "Visualize and compare the performance of the hedged and unhedged portfolios."
   ]
  },
  {
   "cell_type": "code",
   "execution_count": 51,
   "id": "7c9bfb4d",
   "metadata": {},
   "outputs": [
    {
     "data": {
      "image/png": "[encoded data removed]",
      "text/plain": [
       "<Figure size 1200x600 with 1 Axes>"
      ]
     },
     "metadata": {},
     "output_type": "display_data"
    }
   ],
   "source": [
    "plt.figure(figsize=(12,6))\n",
    "plt.plot(pv, label='Unhedged Portfolio')\n",
    "plt.plot(hedged_portfolio_value, label='Hedged Portfolio')\n",
    "plt.title('Portfolio Value: Hedged vs Unhedged')\n",
    "plt.xlabel('Date')\n",
    "plt.ylabel('Portfolio Value ($)')\n",
    "plt.legend()\n",
    "plt.grid(True, alpha=0.3)\n",
    "plt.tight_layout()\n",
    "plt.show()"
   ]
  },
  {
   "cell_type": "markdown",
   "id": "0ea2b935",
   "metadata": {},
   "source": [
    "### Data Export for Part 5\n",
    "Export the hedged and unhedged portfolio time series for use in the next analysis part."
   ]
  },
  {
   "cell_type": "code",
   "execution_count": 52,
   "id": "4e85da5b",
   "metadata": {},
   "outputs": [
    {
     "name": "stdout",
     "output_type": "stream",
     "text": [
      "✓ Hedged and unhedged timeseries data saved to 'hedge_and_no_hedge_timeseries.csv'\n",
      "\n",
      "Data shape: (1190, 4)\n",
      "Date range: 2020-11-02 00:00:00 to 2025-07-30 00:00:00\n",
      "\n",
      "=== Hedging Strategy Summary ===\n",
      "Unhedged portfolio return: 92.04%\n",
      "Hedged portfolio return: -0.63%\n",
      "Alpha isolation impact: -92.67%\n",
      "Correlation with SPY reduced from 0.957 to 0.014\n",
      "Volatility reduction: 72.4%\n"
     ]
    }
   ],
   "source": [
    "# Save hedged vs unhedged timeseries data for Part 5 backtesting\n",
    "timeseries_data = pd.DataFrame({\n",
    "    'Date': portfolio_comparison.index,\n",
    "    'Unhedged_Portfolio_Value': portfolio_comparison['Unhedged_Value'],\n",
    "    'Hedged_Portfolio_Value': portfolio_comparison['Hedged_Value'],\n",
    "    'Daily_Hedge_Ratio': hedge_ratio\n",
    "})\n",
    "\n",
    "# Save to CSV for Part 5 analysis\n",
    "timeseries_data.to_csv('hedge_and_no_hedge_timeseries.csv', index=False)\n",
    "print(\"✓ Hedged and unhedged timeseries data saved to \" + \\\n",
    "      \"'hedge_and_no_hedge_timeseries.csv'\")\n",
    "\n",
    "print(f\"\\nData shape: {timeseries_data.shape}\")\n",
    "print(f\"Date range: {timeseries_data['Date'].iloc[0]} to \" + \\\n",
    "      f\"{timeseries_data['Date'].iloc[-1]}\")\n",
    "\n",
    "# Calculate correlation metrics for summary\n",
    "correlation_before = pr.corr(mr)\n",
    "correlation_after = hedged_returns.corr(mr)\n",
    "\n",
    "# Summary of hedging effectiveness\n",
    "print(\"\\n=== Hedging Strategy Summary ===\")\n",
    "print(f\"Unhedged portfolio return: {unhedged_return:.2%}\")\n",
    "print(f\"Hedged portfolio return: {hedged_return:.2%}\")\n",
    "print(f\"Alpha isolation impact: \" + \\\n",
    "      f\"{hedged_return - unhedged_return:.2%}\")\n",
    "print(f\"Correlation with SPY reduced from {correlation_before:.3f} \" + \\\n",
    "      f\"to {correlation_after:.3f}\")\n",
    "print(f\"Volatility reduction: \" + \\\n",
    "      f\"{((pr.std() - hedged_returns.std()) / pr.std()) * 100:.1f}%\")"
   ]
  }
 ],
 "metadata": {
  "kernelspec": {
   "display_name": "Python 3",
   "language": "python",
   "name": "python3"
  },
  "language_info": {
   "codemirror_mode": {
    "name": "ipython",
    "version": 3
   },
   "file_extension": ".py",
   "mimetype": "text/x-python",
   "name": "python",
   "nbconvert_exporter": "python",
   "pygments_lexer": "ipython3",
   "version": "3.11.0"
  }
 },
 "nbformat": 4,
 "nbformat_minor": 5
}
