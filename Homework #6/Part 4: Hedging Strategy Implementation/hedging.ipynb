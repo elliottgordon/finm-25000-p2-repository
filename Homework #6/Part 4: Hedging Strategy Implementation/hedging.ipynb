{
 "cells": [
  {
   "cell_type": "markdown",
   "id": "f75ae2e2",
   "metadata": {},
   "source": [
    "to do:\n",
    "- import market data, equal weights profolio part 2, betas from part 3\n",
    "- calculate daily hedge ratio at each time t\n",
    "- make df of all these variables and for hedged returns, with index = time\n",
    "- do i need to redo math of each day's returns if i have the hedge returns formula\n",
    "- is short spy position mean what %, $, or # of shares of profolio to put in spy?\n"
   ]
  },
  {
   "cell_type": "markdown",
   "id": "9da9763b",
   "metadata": {},
   "source": [
    "## Part 4️⃣: Hedging Strategy Implementation\n",
    "\n",
    "### ✅ Objective:\n",
    "Isolate **alpha** by removing market exposure from the portfolio using dynamic hedging based on beta.\n",
    "\n",
    "---\n",
    "\n",
    "### 🔧 Tasks:\n",
    "\n",
    "1. **Import required data**:\n",
    "   - Market data (e.g., SPY prices)\n",
    "   - Equal-weighted portfolio value from **Part 2**\n",
    "   - Time-varying portfolio betas from **Part 3**\n",
    "\n",
    "2. **Calculate daily hedge ratio** (`h_t`) for each day `t`:\n",
    "   - Use the formula:  \n",
    "     $h_t = \\beta_t \\times \\frac{\\text{Portfolio Value at time } t}{\\text{SPY Price at time } t}$\n",
    "\n",
    "   - This gives the **number of SPY shares to short** at each point in time.\n",
    "\n",
    "3. **Construct a DataFrame** with:\n",
    "   - `Date` (as index)\n",
    "   - Portfolio value (`P_t`)\n",
    "   - SPY price (`SPY_t`)\n",
    "   - Beta (`β_t`)\n",
    "   - Hedge ratio (`h_t`)\n",
    "   - Short SPY position\n",
    "   - Portfolio returns (`r_p,t`)\n",
    "   - Market returns (`r_mkt,t`)\n",
    "   - Hedged protfolio value\n",
    "   - **Hedged portfolio return** (`r_hp,t`) calculated as:  \n",
    "     $r_{hp,t} = r_{p,t} - \\beta_t \\cdot r_{mkt,t}$\n",
    "\n",
    "4. **Clarifications / Notes**:\n",
    "   - You **do not need to recompute portfolio returns** if you already have them — just plug into the hedged return formula.\n",
    "   - The short SPY position is in **number of shares** (not % or $) based on hedge ratio formula.\n",
    "   - Portfolio value **should include cash** (if tracking both assets + cash, especially after shorting).\n",
    "\n",
    "---\n",
    "\n",
    "### 🔍 Reminder: What is this doing?\n",
    "\n",
    "- Hedging removes the portion of returns that can be explained by overall market movement.\n",
    "- The **goal** is to isolate the \"alpha\" or **idiosyncratic return** of your strategy, i.e., how well your stock selection performs *independently* of the market.\n",
    "\n",
    "---\n",
    "\n",
    "### 💡 Tip:\n",
    "\n",
    "If you’re confused by what the hedge ratio represents:\n",
    "- Think of it as: *\"How many SPY shares should I short to offset the market exposure of my portfolio on that day?\"*\n",
    "\n"
   ]
  },
  {
   "cell_type": "markdown",
   "id": "12f939bc",
   "metadata": {},
   "source": [
    "## 1. Import Required Data"
   ]
  },
  {
   "cell_type": "markdown",
   "id": "6eb83c39",
   "metadata": {},
   "source": [
    "### 1.0 Import libraries"
   ]
  },
  {
   "cell_type": "code",
   "execution_count": 17,
   "id": "2f458635",
   "metadata": {},
   "outputs": [
    {
     "name": "stdout",
     "output_type": "stream",
     "text": [
      "📚 Libraries imported successfully!\n",
      "📊 Market Exposure Estimation System Ready!\n",
      "⚙️ Market exposure analysis parameters:\n",
      "  benchmark_ticker: SPY\n",
      "  rolling_window: 60\n",
      "  min_periods: 30\n",
      "  confidence_level: 0.95\n",
      "  start_date: 2020-01-01\n",
      "  end_date: 2025-07-31\n",
      "\n",
      "🎯 Analysis Framework:\n",
      "  • Benchmark: SPY (S&P 500 ETF)\n",
      "  • Rolling window: 60 trading days\n",
      "  • Model: r_p,t = α_t + β_t × r_mkt,t + ε_t\n",
      "  • Beta interpretation: Market sensitivity coefficient\n"
     ]
    }
   ],
   "source": [
    "# Import required libraries\n",
    "import pandas as pd\n",
    "import numpy as np\n",
    "import matplotlib.pyplot as plt\n",
    "import seaborn as sns\n",
    "import yfinance as yf\n",
    "from sklearn.linear_model import LinearRegression\n",
    "from scipy import stats\n",
    "import warnings\n",
    "warnings.filterwarnings('ignore')\n",
    "\n",
    "# Set display options\n",
    "pd.set_option('display.max_columns', None)\n",
    "pd.set_option('display.float_format', '{:.6f}'.format)\n",
    "\n",
    "# Set plotting style\n",
    "plt.style.use('seaborn-v0_8')\n",
    "sns.set_palette(\"husl\")\n",
    "\n",
    "print(\"📚 Libraries imported successfully!\")\n",
    "print(\"📊 Market Exposure Estimation System Ready!\")\n",
    "\n",
    "# Configuration parameters\n",
    "EXPOSURE_CONFIG = {\n",
    "    'benchmark_ticker': 'SPY',           # Market benchmark (S&P 500 ETF)\n",
    "    'rolling_window': 60,                # Rolling regression window (60 days)\n",
    "    'min_periods': 30,                   # Minimum periods for regression\n",
    "    'confidence_level': 0.95,            # Confidence level for statistical tests\n",
    "    'start_date': '2020-01-01',          # Analysis start date\n",
    "    'end_date': '2025-07-31'             # Analysis end date\n",
    "}\n",
    "\n",
    "print(f\"⚙️ Market exposure analysis parameters:\")\n",
    "for param, value in EXPOSURE_CONFIG.items():\n",
    "    print(f\"  {param}: {value}\")\n",
    "\n",
    "print(f\"\\n🎯 Analysis Framework:\")\n",
    "print(f\"  • Benchmark: {EXPOSURE_CONFIG['benchmark_ticker']} (S&P 500 ETF)\")\n",
    "print(f\"  • Rolling window: {EXPOSURE_CONFIG['rolling_window']} trading days\")\n",
    "print(f\"  • Model: r_p,t = α_t + β_t × r_mkt,t + ε_t\")\n",
    "print(f\"  • Beta interpretation: Market sensitivity coefficient\")"
   ]
  },
  {
   "cell_type": "markdown",
   "id": "cfec5edf",
   "metadata": {},
   "source": [
    "### 1.1 Import daily % returns of market from adj. close prices (aligned_benchmark_returns)"
   ]
  },
  {
   "cell_type": "code",
   "execution_count": 58,
   "id": "5bf35cac",
   "metadata": {},
   "outputs": [
    {
     "name": "stdout",
     "output_type": "stream",
     "text": [
      "📊 Downloading market benchmark data...\n",
      "⚠️ Error downloading benchmark data: 'Adj Close'\n",
      "Creating sample benchmark data for demonstration...\n",
      "📊 Generated sample benchmark data with shape: (1457,)\n",
      "\n",
      "📋 Benchmark Statistics:\n",
      "  • Mean daily return: 0.001050 (26.46% annual)\n",
      "  • Daily volatility: 0.014830 (23.54% annual)\n",
      "  • Min return: -0.048219 (-4.82%)\n",
      "  • Max return: 0.058191 (5.82%)\n",
      "\n",
      "💼 Loading portfolio returns from previous analysis...\n",
      "✅ Loaded equal-weight portfolio returns from Part 2\n",
      "📊 Portfolio returns shape: (1254,)\n",
      "\n",
      "📋 Portfolio Statistics:\n",
      "  • Portfolio: Equal-Weight Portfolio\n",
      "  • Mean daily return: 0.000574 (14.47% annual)\n",
      "  • Daily volatility: 0.010776 (17.11% annual)\n",
      "  • Min return: -0.066011 (-6.60%)\n",
      "  • Max return: 0.079485 (7.95%)\n"
     ]
    }
   ],
   "source": [
    "# Download benchmark (SPY) data\n",
    "print(\"📊 Downloading market benchmark data...\")\n",
    "\n",
    "try:\n",
    "    # Download SPY data for the analysis period\n",
    "    benchmark_ticker = EXPOSURE_CONFIG['benchmark_ticker']\n",
    "    start_date = EXPOSURE_CONFIG['start_date']\n",
    "    end_date = EXPOSURE_CONFIG['end_date']\n",
    "    \n",
    "    benchmark_data = yf.download(benchmark_ticker, start=start_date, end=end_date, progress=False)\n",
    "    benchmark_prices = benchmark_data['Adj Close']\n",
    "    \n",
    "    # Calculate benchmark returns\n",
    "    benchmark_returns = benchmark_prices.pct_change().dropna()\n",
    "    \n",
    "    print(f\"✅ Successfully downloaded {benchmark_ticker} data\")\n",
    "    print(f\"📈 Benchmark data shape: {benchmark_prices.shape}\")\n",
    "    print(f\"📅 Date range: {benchmark_prices.index.min().strftime('%Y-%m-%d')} to {benchmark_prices.index.max().strftime('%Y-%m-%d')}\")\n",
    "    \n",
    "except Exception as e:\n",
    "    print(f\"⚠️ Error downloading benchmark data: {e}\")\n",
    "    print(\"Creating sample benchmark data for demonstration...\")\n",
    "    \n",
    "    # Generate sample benchmark data\n",
    "    np.random.seed(42)\n",
    "    dates = pd.date_range(start=start_date, end=end_date, freq='D')\n",
    "    dates = dates[dates.weekday < 5]  # Remove weekends\n",
    "    \n",
    "    # Generate realistic market returns (lower volatility than individual stocks)\n",
    "    market_returns = np.random.normal(0.0004, 0.015, len(dates))  # ~10% annual return, 24% volatility\n",
    "    \n",
    "    # Calculate cumulative prices starting from $100\n",
    "    benchmark_prices = pd.Series(100, index=dates)\n",
    "    for i in range(1, len(dates)):\n",
    "        benchmark_prices.iloc[i] = benchmark_prices.iloc[i-1] * (1 + market_returns[i])\n",
    "    \n",
    "    benchmark_returns = benchmark_prices.pct_change().dropna()\n",
    "    print(f\"📊 Generated sample benchmark data with shape: {benchmark_prices.shape}\")\n",
    "\n",
    "print(f\"\\n📋 Benchmark Statistics:\")\n",
    "print(f\"  • Mean daily return: {benchmark_returns.mean():.6f} ({benchmark_returns.mean()*252*100:.2f}% annual)\")\n",
    "print(f\"  • Daily volatility: {benchmark_returns.std():.6f} ({benchmark_returns.std()*np.sqrt(252)*100:.2f}% annual)\")\n",
    "print(f\"  • Min return: {benchmark_returns.min():.6f} ({benchmark_returns.min()*100:.2f}%)\")\n",
    "print(f\"  • Max return: {benchmark_returns.max():.6f} ({benchmark_returns.max()*100:.2f}%)\")\n",
    "\n",
    "# Load portfolio returns from previous analysis\n",
    "print(f\"\\n💼 Loading portfolio returns from previous analysis...\")\n",
    "\n",
    "portfolio_data_loaded = False\n",
    "\n",
    "# Try to load from Part 2 (Equal-weight portfolio)\n",
    "try:\n",
    "    equal_weight_data = pd.read_csv('../Part 2: Initial Portfolio Construction/equal_weight_portfolio_results.csv', \n",
    "                                    index_col=0, parse_dates=True)\n",
    "    portfolio_returns = equal_weight_data['Portfolio_Return']\n",
    "    portfolio_name = \"Equal-Weight Portfolio\"\n",
    "    portfolio_data_loaded = True\n",
    "    print(f\"✅ Loaded equal-weight portfolio returns from Part 2\")\n",
    "    print(f\"📊 Portfolio returns shape: {portfolio_returns.shape}\")\n",
    "    \n",
    "except FileNotFoundError:\n",
    "    print(\"⚠️ Equal-weight portfolio data not found in Part 2\")\n",
    "\n",
    "# Try to load from Part 2.5 (Signal-weighted portfolio) as alternative\n",
    "if not portfolio_data_loaded:\n",
    "    try:\n",
    "        signal_weight_data = pd.read_csv('../2.5: Technical Indicators & Signal Design/portfolio_performance_comparison.csv', \n",
    "                                         index_col=0, parse_dates=True)\n",
    "        portfolio_returns = signal_weight_data['Signal_Weighted_Return']\n",
    "        portfolio_name = \"Signal-Weighted Portfolio\"\n",
    "        portfolio_data_loaded = True\n",
    "        print(f\"✅ Loaded signal-weighted portfolio returns from Part 2.5\")\n",
    "        print(f\"📊 Portfolio returns shape: {portfolio_returns.shape}\")\n",
    "        \n",
    "    except FileNotFoundError:\n",
    "        print(\"⚠️ Signal-weighted portfolio data not found in Part 2.5\")\n",
    "\n",
    "# Generate sample portfolio data if no data found\n",
    "if not portfolio_data_loaded:\n",
    "    print(\"⚠️ No portfolio data found. Generating sample portfolio returns...\")\n",
    "    \n",
    "    # Create sample portfolio returns (higher volatility than market)\n",
    "    np.random.seed(123)\n",
    "    portfolio_returns_data = np.random.normal(0.0006, 0.025, len(benchmark_returns))  # ~15% annual return, 40% volatility\n",
    "    portfolio_returns = pd.Series(portfolio_returns_data, index=benchmark_returns.index)\n",
    "    portfolio_name = \"Sample Portfolio\"\n",
    "    print(f\"📊 Generated sample portfolio returns with shape: {portfolio_returns.shape}\")\n",
    "\n",
    "print(f\"\\n📋 Portfolio Statistics:\")\n",
    "print(f\"  • Portfolio: {portfolio_name}\")\n",
    "print(f\"  • Mean daily return: {portfolio_returns.mean():.6f} ({portfolio_returns.mean()*252*100:.2f}% annual)\")\n",
    "print(f\"  • Daily volatility: {portfolio_returns.std():.6f} ({portfolio_returns.std()*np.sqrt(252)*100:.2f}% annual)\")\n",
    "print(f\"  • Min return: {portfolio_returns.min():.6f} ({portfolio_returns.min()*100:.2f}%)\")\n",
    "print(f\"  • Max return: {portfolio_returns.max():.6f} ({portfolio_returns.max()*100:.2f}%)\")\n",
    "\n",
    "# Align portfolio and benchmark returns for analysis\n",
    "common_dates = portfolio_returns.index.intersection(benchmark_returns.index)\n",
    "aligned_portfolio_returns = portfolio_returns.loc[common_dates]\n",
    "aligned_benchmark_returns = benchmark_returns.loc[common_dates]\n",
    "aligned_benchmark_returns.name = \"Market Adj Close\"\n",
    "\n",
    "profolio_vals = equal_weight_data['Portfolio_Value']\n",
    "benchmark_prices.name = \"SPY_Price\"\n",
    "benchmark_returns.name = \"Market_Returns\""
   ]
  },
  {
   "cell_type": "markdown",
   "id": "b22d0c83",
   "metadata": {},
   "source": [
    "###1.3 Import betas"
   ]
  },
  {
   "cell_type": "code",
   "execution_count": null,
   "id": "011dfd91",
   "metadata": {},
   "outputs": [],
   "source": [
    "betas = pd.read_csv('../Part 3: Market Exposure Estimation/portfolio_beta_timeseries.csv',\n",
    "                    index_col='Date',\n",
    "                    parse_dates=True)\n",
    "betas = betas['Beta']"
   ]
  },
  {
   "cell_type": "code",
   "execution_count": 43,
   "id": "a53c6628",
   "metadata": {},
   "outputs": [
    {
     "data": {
      "text/plain": [
       "Date\n",
       "2020-10-27   -0.015852\n",
       "2020-10-28   -0.033554\n",
       "2020-10-29   -0.038975\n",
       "2020-10-30   -0.033614\n",
       "2020-11-02   -0.048307\n",
       "                ...   \n",
       "2025-07-25    0.038051\n",
       "2025-07-28    0.013906\n",
       "2025-07-29    0.012007\n",
       "2025-07-30   -0.008292\n",
       "2025-07-31   -0.016522\n",
       "Name: Beta, Length: 1195, dtype: float64"
      ]
     },
     "execution_count": 43,
     "metadata": {},
     "output_type": "execute_result"
    }
   ],
   "source": [
    "benchmark_prices\n",
    "profolio_vals\n",
    "betas"
   ]
  },
  {
   "cell_type": "markdown",
   "id": "9a5dc626",
   "metadata": {},
   "source": [
    "## 2. **Calculate daily hedge ratio** (`h_t`) for each day `t`:"
   ]
  },
  {
   "cell_type": "code",
   "execution_count": 62,
   "id": "4ea52953",
   "metadata": {},
   "outputs": [],
   "source": [
    "daily_hedge_ratios = betas * profolio_vals / benchmark_prices\n",
    "daily_hedge_ratios = abs(daily_hedge_ratios)\n",
    "daily_hedge_ratios = daily_hedge_ratios.dropna()"
   ]
  },
  {
   "cell_type": "code",
   "execution_count": 63,
   "id": "3415f3db",
   "metadata": {},
   "outputs": [
    {
     "data": {
      "text/plain": [
       "2020-10-27   14.948832\n",
       "2020-10-28   30.345019\n",
       "2020-10-29   36.013132\n",
       "2020-10-30   31.016938\n",
       "2020-11-02   45.692249\n",
       "                ...   \n",
       "2025-07-25   19.481096\n",
       "2025-07-28    6.815121\n",
       "2025-07-29    5.826022\n",
       "2025-07-30    4.120976\n",
       "2025-07-31    8.033080\n",
       "Name: hedge_ratio, Length: 1195, dtype: float64"
      ]
     },
     "execution_count": 63,
     "metadata": {},
     "output_type": "execute_result"
    }
   ],
   "source": [
    "daily_hedge_ratios.name = \"hedge_ratio\"\n",
    "daily_hedge_ratios"
   ]
  },
  {
   "cell_type": "markdown",
   "id": "e1e8b58c",
   "metadata": {},
   "source": [
    "## 3. Construct DF of hedged and unhedged profolios"
   ]
  },
  {
   "cell_type": "code",
   "execution_count": null,
   "id": "6b4c6d0c",
   "metadata": {},
   "outputs": [],
   "source": [
    "spy_position = - daily_hedge_ratios * benchmark_prices\n",
    "spy_position.name = \"Short_SPY_Position\"\n",
    "\n",
    "hedge_protfolio_value = profolio_vals + spy_position\n",
    "hedge_protfolio_value.name = \"Hedged_Portfolio_Value\"\n",
    "\n",
    "hedge_protfolio_ret = portfolio_returns - betas * benchmark_returns\n",
    "hedge_protfolio_ret.name = \"Hedged_Portfolio_Return\"\n",
    "\n",
    "hedge_and_no_hedge_prot = pd.concat([profolio_vals, benchmark_prices, betas, \n",
    "                                       daily_hedge_ratios, spy_position, \n",
    "                                       portfolio_returns, benchmark_returns,\n",
    "                                       hedge_protfolio_value, \n",
    "                                       hedge_protfolio_ret], \n",
    "                                    axis = 1, join = 'inner')\n",
    "\n",
    "# hedge_and_no_hedge_prot.to_csv(\"hedge_and_no_hedge_timeseries\")"
   ]
  },
  {
   "cell_type": "markdown",
   "id": "92c8bd21",
   "metadata": {},
   "source": [
    "odd - hedge_protfolio_ret doesnt equal hedge_protfolio_value.pct_change() at the moment"
   ]
  }
 ],
 "metadata": {
  "kernelspec": {
   "display_name": "venv",
   "language": "python",
   "name": "python3"
  },
  "language_info": {
   "codemirror_mode": {
    "name": "ipython",
    "version": 3
   },
   "file_extension": ".py",
   "mimetype": "text/x-python",
   "name": "python",
   "nbconvert_exporter": "python",
   "pygments_lexer": "ipython3",
   "version": "3.10.0"
  }
 },
 "nbformat": 4,
 "nbformat_minor": 5
}
